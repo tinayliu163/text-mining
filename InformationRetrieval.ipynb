{
 "cells": [
  {
   "cell_type": "markdown",
   "metadata": {},
   "source": [
    "# <center> Information Retrieval </center>\n",
    "\n",
    "Reference: \n",
    "- https://pdfs.semanticscholar.org/e2b6/4bf95ee3d2f9bb56042e93eb7688158b7d35.pdf\n",
    "- https://web.stanford.edu/class/cs276/handouts/lecture-lucene.pptx\n",
    "- https://webcourse.cs.technion.ac.il/236621/Winter2011-2012/ho/WCFiles/tutorial%201%20%28Information%20Retrieval%20Basics%29.pdf\n",
    "- https://people.cs.umass.edu/~jpjiang/cs646/16_learning_to_rank.pdf\n",
    "- https://logz.io/learn/complete-guide-elk-stack/"
   ]
  },
  {
   "cell_type": "markdown",
   "metadata": {},
   "source": [
    "## 1. Basic Concepts:\n",
    "\n",
    "- Document ($d$) – any piece of information (usually textual data)\n",
    "- Query ($q$) – some text representing the user’s information need\n",
    "- Relevance – a predicate between documents and queries $R(d,q)$\n",
    "- Process of Inforamtion Retrival\n",
    " \n",
    "\n",
    "<img src=\"information_retrieval.png\" width=\"50%\">\n",
    "source: https://web.stanford.edu/class/cs276/handouts/lecture-lucene.pptx\n"
   ]
  },
  {
   "cell_type": "markdown",
   "metadata": {},
   "source": [
    "## 2. Information Retrieval Process\n",
    "- Analyze document: tokenize, remove space, remove stop words, extract phrases, stemming, tf-idf weights...\n",
    "- Index document: after analysis, each document is represented as a set of terms with tf-idf weights \n",
    "  - Inverted index\n",
    "  <img src='inverted_index.jpg' width='50%'>\n",
    "- Use index for retrieval\n",
    "  - Given a user's query $q=(t_1, t_2, ..., t_k)$, find the relevant documents\n",
    "  - Popular methods:\n",
    "      - Boolean model\n",
    "      - Vector Space Model\n",
    "      - Doc2vector\n",
    "      - Learning to Rank (Supervised)\n",
    "      - ..."
   ]
  },
  {
   "cell_type": "markdown",
   "metadata": {},
   "source": [
    "### 2.1 Boolean Model\n",
    "- A query is specified as a boolean expression, e.g. ('blue' and 'butterfly')\n",
    "  - boolean operator: OR, AND, NOT\n",
    "- Relevance: A document is relevant to the query if it satisfies the query's boolean expression\n",
    "- Pros:\n",
    "  - Fast\n",
    "  - Relevance is binary (Yes or No)\n",
    "- Cons:\n",
    "  - No ranking\n",
    "  - How to convert search query as a boolean expression? (e.g. 'bright butterfly not in color blue')"
   ]
  },
  {
   "cell_type": "markdown",
   "metadata": {},
   "source": [
    "###  2.2 Vector Space Model\n",
    "- Documents are represented as vectors in a (huge) N- dimensional space\n",
    "    – N is the number of terms in the corpus, i.e. size of the lexicon/dictionary\n",
    "- Query is a document like any other document\n",
    "- Relevance – measured by similarity:\n",
    "  - Cosine similarity between query and document vectors\n",
    "- Pros\n",
    "  - tf-idf improves retrieval effectiveness\n",
    "  - Cosine similarity is a good ranking measure\n",
    "  - Simple and elegant\n",
    "- Cons\n",
    "  - Ranking does not guarantee multiple term containment\n",
    "  - Term weighting schemes sometimes difficult to maintain in incremental settings"
   ]
  },
  {
   "cell_type": "markdown",
   "metadata": {},
   "source": [
    "### 2.4 Doc2Vector\n",
    "### 2.5 Learning to Rank (Supervised)\n",
    "- Learn a function to automatically rank results \n",
    "- Basic idea:\n",
    "  - Given a training dataset that contains a list of $(q, d, r)$ where $d$ is document returned from query $q$ with relevance $r$\n",
    "  - Training a machine learning model with features extracted from concatenated $(d :: q)$ and $r$ as target\n",
    "  - SVM, regression, deep learning, and other machine learning techniques can be used to learn the ranking model"
   ]
  },
  {
   "cell_type": "markdown",
   "metadata": {},
   "source": [
    "## 3. Popular text search engines\n",
    "- Apache Lucene (https://lucene.apache.org/)\n",
    "- Apache Solr (based on Lucene) (http://lucene.apache.org/solr/)\n",
    "- ElasticSearch (based on Lucene) (https://www.elastic.co)\n",
    "- ...\n"
   ]
  },
  {
   "cell_type": "markdown",
   "metadata": {},
   "source": [
    "## 4. ElasticSearch, Logstash, and Kibana (ELK)\n",
    "- ElasticSearch, Logstash, and Kibana (denoted as ELK Stack) is the most popular opne-source log management platform. It is downloaded 500,000 times every month\n",
    "- Elasticsearch is a NoSQL database that is based on the Lucene search engine. \n",
    "  - It's not only for log management\n",
    "  - It supports scalable full text search\n",
    "- Logstash is a log pipeline tool that accepts inputs from various sources (e.g. tweets) and exports the data to various targets. \n",
    "- Kibana is a visualization layer that works on top of Elasticsearch\n"
   ]
  },
  {
   "cell_type": "markdown",
   "metadata": {},
   "source": [
    "### 4.1. Demo of ElasticSearch and Kibana\n",
    "- Demo Site: http://155.246.104.27:5601/\n",
    "- Select \"logstash-\\*\" index (i.e. documents in indexes named with \"logstash...\")\n",
    "- Change the time range from 2015-05-17 to 2015-05-20\n",
    "- Investigate the json data store\n",
    "- Search for documents, e.g. traffic related to \"twitter.com\" or \"music AND movie\"\n",
    "- Play with the dashboard\n",
    "- Create your own visualization (it's a shared environment, be sure to name it uniquely, i.e. with your student id)"
   ]
  },
  {
   "cell_type": "code",
   "execution_count": null,
   "metadata": {
    "collapsed": true
   },
   "outputs": [],
   "source": []
  }
 ],
 "metadata": {
  "kernelspec": {
   "display_name": "Python 2",
   "language": "python",
   "name": "python2"
  },
  "language_info": {
   "codemirror_mode": {
    "name": "ipython",
    "version": 2
   },
   "file_extension": ".py",
   "mimetype": "text/x-python",
   "name": "python",
   "nbconvert_exporter": "python",
   "pygments_lexer": "ipython2",
   "version": "2.7.13"
  }
 },
 "nbformat": 4,
 "nbformat_minor": 2
}
